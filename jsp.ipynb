{
 "cells": [
  {
   "cell_type": "code",
   "execution_count": 1,
   "metadata": {},
   "outputs": [
    {
     "name": "stdout",
     "output_type": "stream",
     "text": [
      "Requirement already satisfied: opencv-python in c:\\users\\dell\\appdata\\local\\packages\\pythonsoftwarefoundation.python.3.10_qbz5n2kfra8p0\\localcache\\local-packages\\python310\\site-packages (4.7.0.72)\n",
      "Requirement already satisfied: numpy>=1.19.3 in c:\\users\\dell\\appdata\\local\\packages\\pythonsoftwarefoundation.python.3.10_qbz5n2kfra8p0\\localcache\\local-packages\\python310\\site-packages (from opencv-python) (1.24.2)\n",
      "Note: you may need to restart the kernel to use updated packages.\n"
     ]
    }
   ],
   "source": [
    "pip install opencv-python"
   ]
  },
  {
   "cell_type": "code",
   "execution_count": 2,
   "metadata": {},
   "outputs": [],
   "source": [
    "import cv2\n",
    "import numpy as np\n",
    "import concurrent.futures\n",
    "import os"
   ]
  },
  {
   "cell_type": "code",
   "execution_count": 3,
   "metadata": {},
   "outputs": [
    {
     "name": "stdout",
     "output_type": "stream",
     "text": [
      "(337, 391, 3)\n"
     ]
    }
   ],
   "source": [
    "# Obtenez le chemin absolu du répertoire courant\n",
    "current_dir = os.getcwd()\n",
    "\n",
    "# Nom du fichier image\n",
    "image_file = \"Hackathontech.png\"\n",
    "\n",
    "# Chemin complet de l'image\n",
    "image_path = os.path.join(current_dir, image_file)\n",
    "\n",
    "# Chargez l'image\n",
    "img = cv2.imread(image_path)\n",
    "\n",
    "# Afficher la forme de l'image\n",
    "print(img.shape)\n",
    "\n",
    "rows, cols, _ = img.shape\n",
    "\n",
    "def draw_vertical_lines(img, start, end, step):\n",
    "    for i in range(start, end):\n",
    "        if i % step == 0:\n",
    "            cv2.line(img, (i, 0), (i, rows), (0, 0, 0), 1)\n",
    "\n",
    "def draw_horizontal_lines(img, start, end, step):\n",
    "    for i in range(start, end):\n",
    "        if i % step == 0:\n",
    "            cv2.line(img, (0, i), (cols, i), (0, 0, 0), 1)\n",
    "\n",
    "# Use concurrent.futures to run the two loops in parallel\n",
    "with concurrent.futures.ThreadPoolExecutor() as executor:\n",
    "    future1 = executor.submit(draw_vertical_lines, img, 0, cols, 10)\n",
    "    future2 = executor.submit(draw_horizontal_lines, img, 0, rows, 10)\n",
    "\n",
    "# Show the image\n",
    "cv2.imshow(\"Image\", img)\n",
    "\n",
    "# Wait for a key press and then close the window\n",
    "cv2.waitKey(0)\n",
    "cv2.destroyAllWindows()"
   ]
  }
 ],
 "metadata": {
  "kernelspec": {
   "display_name": "Python 3",
   "language": "python",
   "name": "python3"
  },
  "language_info": {
   "codemirror_mode": {
    "name": "ipython",
    "version": 3
   },
   "file_extension": ".py",
   "mimetype": "text/x-python",
   "name": "python",
   "nbconvert_exporter": "python",
   "pygments_lexer": "ipython3",
   "version": "3.10.11"
  },
  "orig_nbformat": 4
 },
 "nbformat": 4,
 "nbformat_minor": 2
}
